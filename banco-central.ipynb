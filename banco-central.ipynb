{
 "cells": [
  {
   "cell_type": "markdown",
   "metadata": {},
   "source": [
    "### Link da Documentação - https://servicodados.ibge.gov.br/api/docs/agregados?versao=3"
   ]
  },
  {
   "cell_type": "code",
   "execution_count": null,
   "metadata": {},
   "outputs": [],
   "source": [
    "import requests, json, time, pandas_gbq\n",
    "import pandas as pd"
   ]
  },
  {
   "cell_type": "code",
   "execution_count": null,
   "metadata": {},
   "outputs": [],
   "source": [
    "\n",
    "url = \"https://olinda.bcb.gov.br/olinda/servico/mecir_dinheiro_em_circulacao/versao/v1/odata/informacoes_diarias?$top=100&$format=json\"\n",
    "\n",
    "payload={}\n",
    "headers = {\n",
    "  'Cookie': 'TS01d9825e=0198c2d6440b5d471c56cd12c72853f92e461c360c196b032ce5b751f7a366523f2597f23edae083bb4b2432eca9490db4a2dfd048; dtCookie=A92492356B8EE3D41397535CC70BFDE1|X2RlZmF1bHR8MQ; BIGipServer~was_p_as3~was_p~pool_was_443_p=4275048876.47873.0000; JSESSIONID=0000Agr62zs6UmXbm5gSOTJILlr:1cn7m3fq4; TS013694c2=0198c2d6440b5d471c56cd12c72853f92e461c360c196b032ce5b751f7a366523f2597f23edae083bb4b2432eca9490db4a2dfd048'\n",
    "}\n",
    "\n",
    "response = requests.request(\"GET\", url, headers=headers, data=payload)\n",
    "\n",
    "print(response.text)\n"
   ]
  }
 ],
 "metadata": {
  "kernelspec": {
   "display_name": "Python 3.10.7 64-bit",
   "language": "python",
   "name": "python3"
  },
  "language_info": {
   "codemirror_mode": {
    "name": "ipython",
    "version": 3
   },
   "file_extension": ".py",
   "mimetype": "text/x-python",
   "name": "python",
   "nbconvert_exporter": "python",
   "pygments_lexer": "ipython3",
   "version": "3.10.7"
  },
  "orig_nbformat": 4,
  "vscode": {
   "interpreter": {
    "hash": "d4b5a55e580b4940117655ca4e201f5ac50790c50719181b6f499b5d3bc67cdf"
   }
  }
 },
 "nbformat": 4,
 "nbformat_minor": 2
}
